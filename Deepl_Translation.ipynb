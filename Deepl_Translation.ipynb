{
 "cells": [
  {
   "cell_type": "code",
   "execution_count": 1,
   "id": "33e66c47",
   "metadata": {},
   "outputs": [],
   "source": [
    "import warnings\n",
    "warnings.filterwarnings(\"ignore\")"
   ]
  },
  {
   "cell_type": "code",
   "execution_count": 2,
   "id": "731670bb",
   "metadata": {},
   "outputs": [
    {
     "data": {
      "text/html": [
       "<div>\n",
       "<style scoped>\n",
       "    .dataframe tbody tr th:only-of-type {\n",
       "        vertical-align: middle;\n",
       "    }\n",
       "\n",
       "    .dataframe tbody tr th {\n",
       "        vertical-align: top;\n",
       "    }\n",
       "\n",
       "    .dataframe thead th {\n",
       "        text-align: right;\n",
       "    }\n",
       "</style>\n",
       "<table border=\"1\" class=\"dataframe\">\n",
       "  <thead>\n",
       "    <tr style=\"text-align: right;\">\n",
       "      <th></th>\n",
       "      <th>review_title</th>\n",
       "      <th>review_date</th>\n",
       "      <th>review_text</th>\n",
       "      <th>page_number</th>\n",
       "      <th>rating</th>\n",
       "    </tr>\n",
       "  </thead>\n",
       "  <tbody>\n",
       "    <tr>\n",
       "      <th>0</th>\n",
       "      <td>It was a breeze booking the Washing…</td>\n",
       "      <td>2022-06-11</td>\n",
       "      <td>It was a breeze booking the Washing machine fr...</td>\n",
       "      <td>1</td>\n",
       "      <td>4</td>\n",
       "    </tr>\n",
       "    <tr>\n",
       "      <th>1</th>\n",
       "      <td>Alles is subliem afgeleverd .Perfect</td>\n",
       "      <td>2022-05-28</td>\n",
       "      <td>Alles is subliem afgeleverd .</td>\n",
       "      <td>1</td>\n",
       "      <td>5</td>\n",
       "    </tr>\n",
       "    <tr>\n",
       "      <th>2</th>\n",
       "      <td>Very bad company</td>\n",
       "      <td>2022-05-27</td>\n",
       "      <td>Very bad company. Paying way too much for even...</td>\n",
       "      <td>1</td>\n",
       "      <td>1</td>\n",
       "    </tr>\n",
       "    <tr>\n",
       "      <th>3</th>\n",
       "      <td>I really enjoyed the service</td>\n",
       "      <td>2022-05-18</td>\n",
       "      <td>I really enjoyed the service, quite fast and p...</td>\n",
       "      <td>1</td>\n",
       "      <td>5</td>\n",
       "    </tr>\n",
       "    <tr>\n",
       "      <th>4</th>\n",
       "      <td>Very fast service</td>\n",
       "      <td>2022-05-13</td>\n",
       "      <td>Very fast service , the drivers were very fast...</td>\n",
       "      <td>1</td>\n",
       "      <td>5</td>\n",
       "    </tr>\n",
       "  </tbody>\n",
       "</table>\n",
       "</div>"
      ],
      "text/plain": [
       "                           review_title review_date  \\\n",
       "0  It was a breeze booking the Washing…  2022-06-11   \n",
       "1  Alles is subliem afgeleverd .Perfect  2022-05-28   \n",
       "2                      Very bad company  2022-05-27   \n",
       "3          I really enjoyed the service  2022-05-18   \n",
       "4                     Very fast service  2022-05-13   \n",
       "\n",
       "                                         review_text  page_number  rating  \n",
       "0  It was a breeze booking the Washing machine fr...            1       4  \n",
       "1                      Alles is subliem afgeleverd .            1       5  \n",
       "2  Very bad company. Paying way too much for even...            1       1  \n",
       "3  I really enjoyed the service, quite fast and p...            1       5  \n",
       "4  Very fast service , the drivers were very fast...            1       5  "
      ]
     },
     "execution_count": 2,
     "metadata": {},
     "output_type": "execute_result"
    }
   ],
   "source": [
    "from ipynb.fs.full.Trustpilot_Webscraping import df_reviews\n",
    "df_reviews.head()"
   ]
  },
  {
   "cell_type": "code",
   "execution_count": 3,
   "id": "33b03209",
   "metadata": {},
   "outputs": [],
   "source": [
    "#pip install --upgrade deepl\n",
    "import deepl\n",
    "\n",
    "auth_key = \"auth_key\"  # Replace with the Deepl key\n",
    "translator = deepl.Translator(auth_key)"
   ]
  },
  {
   "cell_type": "code",
   "execution_count": 25,
   "id": "6aa93d8a",
   "metadata": {},
   "outputs": [
    {
     "name": "stdout",
     "output_type": "stream",
     "text": [
      "Character usage: 343546 of 500000\n"
     ]
    }
   ],
   "source": [
    "usage = translator.get_usage()\n",
    "if usage.any_limit_reached:\n",
    "    print('Translation limit reached.')\n",
    "if usage.character.valid:\n",
    "    print(\n",
    "        f\"Character usage: {usage.character.count} of {usage.character.limit}\")"
   ]
  },
  {
   "cell_type": "code",
   "execution_count": 20,
   "id": "da8fe480",
   "metadata": {},
   "outputs": [
    {
     "data": {
      "text/plain": [
       "0    It was a breeze booking the Washing machine fr...\n",
       "1    Alles is subliem afgeleverd . Alles is subliem...\n",
       "2    Very bad company. Paying way too much for even...\n",
       "3    I really enjoyed the service, quite fast and p...\n",
       "4    Very fast service , the drivers were very fast...\n",
       "Name: title_text_concatenated, dtype: object"
      ]
     },
     "execution_count": 20,
     "metadata": {},
     "output_type": "execute_result"
    }
   ],
   "source": [
    "df_reviews['title_text_concatenated'] = df_reviews['review_text'] + ' ' + df_reviews['review_title']\n",
    "df_reviews['title_text_concatenated'] = df_reviews['title_text_concatenated'].astype(str)\n",
    "df_reviews['title_text_concatenated'].head()"
   ]
  },
  {
   "cell_type": "code",
   "execution_count": 18,
   "id": "15c8d506",
   "metadata": {},
   "outputs": [],
   "source": [
    "# Translate multiple texts into British English\n",
    "df_reviews['title_text_translated'] = translator.translate_text(df_reviews['title_text_concatenated'], \n",
    "                                                                target_lang = \"EN-US\") #formality = \"more\""
   ]
  },
  {
   "cell_type": "code",
   "execution_count": 21,
   "id": "3fefc4c3",
   "metadata": {},
   "outputs": [
    {
     "data": {
      "text/plain": [
       "0    It was a breeze booking the Washing machine fr...\n",
       "1    Everything was delivered perfectly . Everythin...\n",
       "2    Very bad company. Paying way too much for even...\n",
       "3    I really enjoyed the service, quite fast and p...\n",
       "4    Very fast service , the drivers were very fast...\n",
       "Name: title_text_translated, dtype: object"
      ]
     },
     "execution_count": 21,
     "metadata": {},
     "output_type": "execute_result"
    }
   ],
   "source": [
    "df_reviews['title_text_translated'].head()"
   ]
  },
  {
   "cell_type": "code",
   "execution_count": 24,
   "id": "84e539f6",
   "metadata": {},
   "outputs": [],
   "source": [
    "df_reviews.to_csv('bluemovement.csv', encoding='utf-8')"
   ]
  }
 ],
 "metadata": {
  "kernelspec": {
   "display_name": "Python 3 (ipykernel)",
   "language": "python",
   "name": "python3"
  },
  "language_info": {
   "codemirror_mode": {
    "name": "ipython",
    "version": 3
   },
   "file_extension": ".py",
   "mimetype": "text/x-python",
   "name": "python",
   "nbconvert_exporter": "python",
   "pygments_lexer": "ipython3",
   "version": "3.8.5"
  }
 },
 "nbformat": 4,
 "nbformat_minor": 5
}
